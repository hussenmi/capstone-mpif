{
 "cells": [
  {
   "cell_type": "code",
   "execution_count": 2,
   "id": "df908d30",
   "metadata": {},
   "outputs": [],
   "source": [
    "import pandas as pd"
   ]
  },
  {
   "cell_type": "code",
   "execution_count": null,
   "id": "9c2b41c5",
   "metadata": {},
   "outputs": [],
   "source": [
    "mel = pd.read_csv(\"/juno/work/shah/users/ibrahih3/melanoma/Melanoma_FINAL.csv\")"
   ]
  },
  {
   "cell_type": "code",
   "execution_count": null,
   "id": "2551fab3",
   "metadata": {},
   "outputs": [],
   "source": [
    "#do your reformatting here\n",
    "# save to path\n",
    "path = \"/juno/work/shah/users/ibrahih3/melanoma/for_space/\""
   ]
  }
 ],
 "metadata": {
  "kernelspec": {
   "name": "python31010jvsc74a57bd065fdfb76e48918ab7c5ebcafb03f06fb1a259804f27a1b453474ed3ab099445c",
   "display_name": "Python 3.10.10 64-bit ('space-env': conda)"
  },
  "language_info": {
   "codemirror_mode": {
    "name": "ipython",
    "version": 3
   },
   "file_extension": ".py",
   "mimetype": "text/x-python",
   "name": "python",
   "nbconvert_exporter": "python",
   "pygments_lexer": "ipython3",
   "version": "3.10.10"
  },
  "metadata": {
   "interpreter": {
    "hash": "65fdfb76e48918ab7c5ebcafb03f06fb1a259804f27a1b453474ed3ab099445c"
   }
  }
 },
 "nbformat": 4,
 "nbformat_minor": 5
}