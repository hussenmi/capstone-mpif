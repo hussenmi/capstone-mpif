{
 "cells": [
  {
   "cell_type": "markdown",
   "id": "0257f829",
   "metadata": {},
   "source": [
    "## Clustering of Microenvironments/Subgraphs"
   ]
  },
  {
   "attachments": {},
   "cell_type": "markdown",
   "id": "db3ad8ff",
   "metadata": {},
   "source": [
    "This notebook demonstrates how to use a trained GNN model to define microenvironment clusters"
   ]
  },
  {
   "cell_type": "code",
   "execution_count": null,
   "id": "a90eece9-17e3-431e-aeb2-67020dd2d488",
   "metadata": {
    "tags": []
   },
   "outputs": [],
   "source": [
    "import warnings\n",
    "warnings.filterwarnings(\"ignore\")\n",
    "import numpy as np\n",
    "import torch\n",
    "import spacegm\n",
    "\n",
    "from spacegm.embeddings_analysis import (\n",
    "    get_random_sampled_subgraphs,\n",
    "    get_embedding,\n",
    "    get_composition_vector,\n",
    "    dimensionality_reduction_combo,\n",
    "    collect_cluster_label_for_all_nodes,\n",
    ")"
   ]
  },
  {
   "attachments": {},
   "cell_type": "markdown",
   "id": "18de5ee7",
   "metadata": {},
   "source": [
    "Load the example dataset (please (re-)run the notebook `Example.ipynb` to generate the dataset):"
   ]
  },
  {
   "cell_type": "code",
   "execution_count": null,
   "id": "67950b99-eb07-4797-aa25-ae49465435fb",
   "metadata": {
    "tags": []
   },
   "outputs": [],
   "source": [
    "# Dataset containing 4 example regions\n",
    "dataset_root = \"data/example_dataset\"\n",
    "dataset_kwargs = {\n",
    "    'raw_folder_name': 'graph',\n",
    "    'processed_folder_name': 'tg_graph',\n",
    "    'node_features': [\"cell_type\", \"SIZE\", \"biomarker_expression\", \"neighborhood_composition\", \"center_coord\"],\n",
    "    'edge_features': [\"edge_type\", \"distance\"],\n",
    "    'subgraph_size': 3,\n",
    "    'subgraph_source': 'on-the-fly',\n",
    "    'subgraph_allow_distant_edge': True,\n",
    "    'subgraph_radius_limit': 200.,\n",
    "}\n",
    "dataset = spacegm.CellularGraphDataset(dataset_root, **dataset_kwargs)\n",
    "\n",
    "# Transformers: add graph labels to the subgraphs, mask out features\n",
    "transformers = [\n",
    "    spacegm.AddGraphLabel('data/metadata/full_graph_labels.csv', tasks=['survival_status']),\n",
    "    spacegm.FeatureMask(dataset, use_center_node_features=['cell_type', 'SIZE'], use_neighbor_node_features=['cell_type', 'SIZE']),\n",
    "]\n",
    "dataset.set_transforms(transformers)"
   ]
  },
  {
   "attachments": {},
   "cell_type": "markdown",
   "id": "1de60ecc-9273-48d7-8f46-893ce26ab4be",
   "metadata": {
    "tags": []
   },
   "source": [
    "Load a GNN model trained on the graph-level task:"
   ]
  },
  {
   "cell_type": "code",
   "execution_count": 4,
   "id": "ac85d8dc-f16d-4be5-ba92-e4f02370285f",
   "metadata": {
    "tags": []
   },
   "outputs": [
    {
     "data": {
      "text/plain": [
       "GNN_pred(\n",
       "  (gnn): GNN(\n",
       "    (x_embedding): Embedding(17, 512)\n",
       "    (feat_embedding): Linear(in_features=41, out_features=512, bias=True)\n",
       "    (gnns): ModuleList(\n",
       "      (0): GINConv()\n",
       "      (1): GINConv()\n",
       "      (2): GINConv()\n",
       "    )\n",
       "    (batch_norms): ModuleList(\n",
       "      (0): BatchNorm1d(512, eps=1e-05, momentum=0.1, affine=True, track_running_stats=True)\n",
       "      (1): BatchNorm1d(512, eps=1e-05, momentum=0.1, affine=True, track_running_stats=True)\n",
       "      (2): BatchNorm1d(512, eps=1e-05, momentum=0.1, affine=True, track_running_stats=True)\n",
       "    )\n",
       "  )\n",
       "  (graph_pred_module): Sequential(\n",
       "    (0): Linear(in_features=512, out_features=512, bias=True)\n",
       "    (1): LeakyReLU(negative_slope=0.01)\n",
       "    (2): Linear(in_features=512, out_features=512, bias=True)\n",
       "    (3): LeakyReLU(negative_slope=0.01)\n",
       "    (4): Linear(in_features=512, out_features=1, bias=True)\n",
       "  )\n",
       ")"
      ]
     },
     "metadata": {},
     "output_type": "display_data"
    }
   ],
   "source": [
    "model_kwargs = {\n",
    "    'num_layer': dataset.subgraph_size,\n",
    "    'num_node_type': len(dataset.cell_type_mapping) + 1,\n",
    "    'num_feat': dataset[0].x.shape[1] - 1,\n",
    "    'emb_dim': 512, \n",
    "    'num_node_tasks': 0,\n",
    "    'num_graph_tasks': 1,  # a binary classification task\n",
    "    'node_embedding_output': 'last', \n",
    "    'drop_ratio': 0.25, \n",
    "    'graph_pooling': \"max\", \n",
    "    'gnn_type': 'gin',\n",
    "}\n",
    "\n",
    "model = spacegm.GNN_pred(**model_kwargs)\n",
    "device = 'cpu'\n",
    "model.load_state_dict(torch.load('data/example_model_weights.pt'))\n",
    "\n",
    "display(model)"
   ]
  },
  {
   "attachments": {},
   "cell_type": "markdown",
   "id": "86463013-63d6-4b11-a5f3-e9438be1c189",
   "metadata": {
    "tags": []
   },
   "source": [
    "Generate model predictions on the example regions and calculate metric:"
   ]
  },
  {
   "cell_type": "code",
   "execution_count": 6,
   "id": "cb569cc8-94ab-41ae-9254-f17f2db06fe4",
   "metadata": {
    "tags": []
   },
   "outputs": [
    {
     "name": "stdout",
     "output_type": "stream",
     "text": [
      "predict on 0\n",
      "predict on 1\n",
      "predict on 2\n",
      "predict on 3\n",
      "On region UPMC_c001_v001_r001_reg001, average prediction: 0.333\n",
      "On region UPMC_c001_v001_r001_reg004, average prediction: 0.389\n",
      "On region UPMC_c001_v001_r001_reg009, average prediction: 0.554\n",
      "On region UPMC_c001_v001_r001_reg014, average prediction: 0.505\n",
      "GRAPH [1.0]\n"
     ]
    },
    {
     "data": {
      "text/plain": [
       "[1.0]"
      ]
     },
     "execution_count": 6,
     "metadata": {},
     "output_type": "execute_result"
    }
   ],
   "source": [
    "# Evaluation by iterating over the full graph\n",
    "node_preds, graph_preds = spacegm.inference.collect_predict_for_all_nodes(\n",
    "    model, dataset, device, inds=np.arange(4), print_progress=True)\n",
    "\n",
    "# Aggregated (average) predictions of each region\n",
    "for i, pred in graph_preds.items():\n",
    "    region_id = dataset[i].region_id\n",
    "    predicted_prob = 1 / (1 + np.exp(-np.array(pred)))  # Sigmoid\n",
    "    avg_pred = np.mean(predicted_prob)\n",
    "    print(\"On region %s, average prediction: %.3f\" % (region_id, avg_pred))\n",
    "\n",
    "spacegm.inference.full_graph_graph_classification_evaluate_fn(dataset, graph_preds, print_res=True)"
   ]
  },
  {
   "attachments": {},
   "cell_type": "markdown",
   "id": "ccb10e31",
   "metadata": {},
   "source": [
    "To define microenvironment clusters, we first randomly sample subgraphs from the dataset as reference:"
   ]
  },
  {
   "cell_type": "code",
   "execution_count": 9,
   "id": "b4a32726-b29e-42bc-8e35-b17cccd6f9c7",
   "metadata": {
    "tags": []
   },
   "outputs": [],
   "source": [
    "reference_subgraph_list = get_random_sampled_subgraphs(dataset, n_samples=32768)"
   ]
  },
  {
   "cell_type": "markdown",
   "id": "659c1da3",
   "metadata": {},
   "source": [
    "Calculate the GNN embeddings and composition vectors of the reference subgraphs:"
   ]
  },
  {
   "cell_type": "code",
   "execution_count": 12,
   "id": "2591ae23-8c1f-4748-8519-2c806fe13eb2",
   "metadata": {
    "tags": []
   },
   "outputs": [],
   "source": [
    "node_embeddings, graph_embeddings, preds = get_embedding(model, reference_subgraph_list, device)\n",
    "composition_vectors = [get_composition_vector(data, n_cell_types=len(dataset.cell_type_mapping)) for data in reference_subgraph_list]"
   ]
  },
  {
   "attachments": {},
   "cell_type": "markdown",
   "id": "6e987648",
   "metadata": {},
   "source": [
    "Here we use graph embedding as an example and fit dimensionality reduction and clustering models on them.\n",
    "\n",
    "`dr_tools` below contains:\n",
    "1. a scikit-learn based PCA object `sklearn.decomposition.PCA`\n",
    "2. a UMAP reducer (if UMAP is installed) `umap.UMAP`\n",
    "3. a clustering model: e.g., `sklearn.cluster.KMeans`"
   ]
  },
  {
   "cell_type": "code",
   "execution_count": 32,
   "id": "9fc8aa0c-2fd0-4ba2-94b3-a744b3e98ad4",
   "metadata": {
    "tags": []
   },
   "outputs": [],
   "source": [
    "_, _, _, dr_tools = dimensionality_reduction_combo(\n",
    "    graph_embeddings, n_pca_components=20, cluster_method='kmeans', n_clusters=4)"
   ]
  },
  {
   "attachments": {},
   "cell_type": "markdown",
   "id": "4d4059d0",
   "metadata": {},
   "source": [
    "Apply the dimensionality reduction and clustering models on the entire dataset (all cells and their k-hop subgraphs):"
   ]
  },
  {
   "cell_type": "code",
   "execution_count": 33,
   "id": "6e3ebab2-0e70-4e9f-be89-d82d71ac5a33",
   "metadata": {
    "tags": []
   },
   "outputs": [
    {
     "name": "stdout",
     "output_type": "stream",
     "text": [
      "Predict on 0\n",
      "Predict on 1\n",
      "Predict on 2\n",
      "Predict on 3\n"
     ]
    }
   ],
   "source": [
    "cluster_labels = collect_cluster_label_for_all_nodes(\n",
    "    model, dataset, device, dr_tools, embedding_from='graph', print_progress=True)"
   ]
  }
 ],
 "metadata": {
  "kernelspec": {
   "display_name": "pyg",
   "language": "python",
   "name": "pyg"
  },
  "language_info": {
   "codemirror_mode": {
    "name": "ipython",
    "version": 3
   },
   "file_extension": ".py",
   "mimetype": "text/x-python",
   "name": "python",
   "nbconvert_exporter": "python",
   "pygments_lexer": "ipython3",
   "version": "3.8.16"
  }
 },
 "nbformat": 4,
 "nbformat_minor": 5
}
